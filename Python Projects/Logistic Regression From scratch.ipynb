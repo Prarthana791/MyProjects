{
 "cells": [
  {
   "cell_type": "code",
   "execution_count": 11,
   "metadata": {},
   "outputs": [],
   "source": [
    "import numpy as np\n",
    "from sklearn import datasets"
   ]
  },
  {
   "cell_type": "code",
   "execution_count": 12,
   "metadata": {},
   "outputs": [],
   "source": [
    "def sigmoid(z):\n",
    "    return 1/(1+np.exp(-z))\n",
    "def computez(x,theta):\n",
    "    return np.dot(x,theta)\n",
    "def loss(Ay,Ey):\n",
    "    return (-Ay*np.log(Ey)-((1-Ay)*np.log(1-Ey))).mean()\n",
    "\n",
    "def predictprobs(x,theta):\n",
    "    return sigmoid(computez(x,theta))\n",
    "    "
   ]
  },
  {
   "cell_type": "code",
   "execution_count": 13,
   "metadata": {},
   "outputs": [],
   "source": [
    "data = sklearn.datasets.load_iris()"
   ]
  },
  {
   "cell_type": "code",
   "execution_count": null,
   "metadata": {},
   "outputs": [],
   "source": [
    "def fit(x,y,iteration,learningrate):\n",
    "    theta = np.zeros(x.shape[1])\n",
    "    for i in range(iteration):\n",
    "        z = computez(x,theta)\n",
    "        h = sigmoid(z)\n",
    "        gradient = np.dot(x.T,h-y)/y.shape[0]\n",
    "        theta -= learningrate*gradient\n",
    "    return theta"
   ]
  }
 ],
 "metadata": {
  "kernelspec": {
   "display_name": "Python 3",
   "language": "python",
   "name": "python3"
  },
  "language_info": {
   "codemirror_mode": {
    "name": "ipython",
    "version": 3
   },
   "file_extension": ".py",
   "mimetype": "text/x-python",
   "name": "python",
   "nbconvert_exporter": "python",
   "pygments_lexer": "ipython3",
   "version": "3.7.3"
  }
 },
 "nbformat": 4,
 "nbformat_minor": 2
}
