{
 "cells": [
  {
   "cell_type": "code",
   "execution_count": null,
   "metadata": {},
   "outputs": [],
   "source": [
    "#Reference material:Week 5 PPT1, Week 6 PPT1"
   ]
  },
  {
   "cell_type": "code",
   "execution_count": null,
   "metadata": {},
   "outputs": [],
   "source": [
    "#Method that computes standard deviation of a variable\n",
    "import math\n",
    "def ComputeStandardDeviation(listOfValues,mean):\n",
    "    valuesCount = len(listOfValues)\n",
    "    totalSum = 0\n",
    "    for i in listOfValues:\n",
    "        difference = i - mean\n",
    "        differenceSquare = difference*difference\n",
    "        totalSum = totalSum + differenceSquare\n",
    "    variance = totalSum/valuesCount\n",
    "    standardDeviation = math.sqrt(variance)\n",
    "    return standardDeviation"
   ]
  },
  {
   "cell_type": "code",
   "execution_count": null,
   "metadata": {},
   "outputs": [],
   "source": [
    "#Method that computes mean of a variable\n",
    "def ComputeMean(listOfValues):\n",
    "    valuesCount = len(listOfValues)\n",
    "    totalSum = 0\n",
    "    for i in listOfValues:\n",
    "        totalSum = totalSum + i\n",
    "    mean = totalSum/valuesCount\n",
    "    return mean\n"
   ]
  },
  {
   "cell_type": "code",
   "execution_count": null,
   "metadata": {},
   "outputs": [],
   "source": [
    "#Method that computes correlation coefficient between X and Y\n",
    "def ComputeCorrelationValue(listX,listY):\n",
    "    meanOfX = ComputeMean(listX)\n",
    "    meanOfY = ComputeMean(listY)\n",
    "    stdDevOfX = ComputeStandardDeviation(listX,meanOfX)\n",
    "    stdDevOFY = ComputeStandardDeviation(listY,meanOfY)\n",
    "    valuesCount = len(listX)\n",
    "    \n",
    "    totalSum = 0\n",
    "    for i in range(0,valuesCount):\n",
    "        #terms are divide by staddev to normalize it\n",
    "        termX = (listX[i] - meanOfX)/stdDevOfX\n",
    "        termY = (listY[i] - meanOfY)/stdDevOfY\n",
    "        totalSum = totalSum + (termX*termY)\n",
    "    \n",
    "    correlationCoefficient = totalSum/(valuesCount-1)\n",
    "    return correlationCoefficient\n",
    "    "
   ]
  },
  {
   "cell_type": "code",
   "execution_count": null,
   "metadata": {},
   "outputs": [],
   "source": [
    "#Estimate parameters using Least Square estimates formula\n",
    "import numpy as np\n",
    "def EstimateParameterByOLS(independentVariableMatrixX,dependentVariableVectorY):\n",
    "    #independentVariableMatrixX must be 2D numpy array\n",
    "    originalMatrixX= independentVariableMatrixX\n",
    "    independentVariableMatrixX.transpose()\n",
    "    termA = independentVariableMatrixX.dot(originalMatrixX)\n",
    "    termB = independentVariableMatrixX.dot(dependentVariableVectorY)\n",
    "    inversetermA = np.linalg.inv(termA)\n",
    "    coeffiecients = inversetermA.dot(termB)\n",
    "    return coefficients"
   ]
  },
  {
   "cell_type": "code",
   "execution_count": null,
   "metadata": {},
   "outputs": [],
   "source": [
    "#Goodness to fit tests sequence:\n",
    "#1) F-test\n",
    "#2) Individual parameter test\n",
    "#3) Adj R2\n",
    "#For simple linear regression, it doesn;t matter as there is only 1 independent variable"
   ]
  },
  {
   "cell_type": "code",
   "execution_count": null,
   "metadata": {},
   "outputs": [],
   "source": [
    "#Goodeness to fit test: F test for variances\n",
    "# SST = SSE+SSR\n",
    "#Higher the FStat value, better the model is. Also, SSE should be as small as possible and hence SST will be close to SSR \n",
    "def ComputeRegressionSumOfSquares(predictedVariableY,meanY):\n",
    "    valuesCount = len(predictedVariableY)\n",
    "    SSR = 0\n",
    "    for i in range(valuesCount):\n",
    "        SSR = SSR + (predictedVariableY[i]-meany)^2\n",
    "    return SSR\n",
    "def ComputeErrorSumOfSquares(actualVariableY, predictedVariableY):\n",
    "    SSE = 0\n",
    "    valuesCount = len(predictedVariableY)\n",
    "    for i in range(valuesCount):\n",
    "        SSE = SSE+(actualVariableY[i]-predictedVariableY[i])^2\n",
    "    return SSE\n",
    "\n",
    "def ComputeFStat(actualVariableY,predictedVariableY,numberOfIndependentVariables):\n",
    "    meanY = ComputeMean(actualVariableY)\n",
    "    SSR = ComputeRegressionSumOfSquares(predictedVariableY,meanY)\n",
    "    SSE = ComputeErrorSumOfSquares(actualVariableY,predictedVariableY)\n",
    "    valuesCount = len(predictedVarianleY)\n",
    "    FStat = (SSR/numberOfIndependentVariables)/(SSE/valuesCount-numberOfIndependentVariables-1)\n",
    "    return FStat\n",
    "        "
   ]
  },
  {
   "cell_type": "code",
   "execution_count": null,
   "metadata": {},
   "outputs": [],
   "source": [
    "#Goodeness to fit test: Coefficient of determination i.e. Rsquare\n",
    "def ComputeRSquare(ActualValuesY,PredictedValuesY):\n",
    "    actualMeanY = ComputeMean(ActualValuesY)\n",
    "    valuesCount = len(ActualValuesY)\n",
    "    \n",
    "    SSR = 0\n",
    "    SST = 0\n",
    "    for i in range(0,valuesCount):\n",
    "        SSR = SSR + ((PredictedValuesY[i] - actualMeanY)^2)\n",
    "        SST = SST + ((ActualValuesY[i] - actualMeanY)^2)\n",
    "    RSquare = SSR/SST\n",
    "    return RSquare"
   ]
  },
  {
   "cell_type": "code",
   "execution_count": null,
   "metadata": {},
   "outputs": [],
   "source": [
    "#Goodeness to fit test: Coefficient of determination i.e. Adjusted Rsquare\n",
    "#Unlike Rsquare, adjusted R square will not always increase upon addition of X variable. It will only increase if that X variable improves the regression model\n",
    "#Hence, adj-R2 is better than R2 metric\n",
    "def ComputeAdjustedRSquare(ActualValuesY,PredictedValuesY,numberOfIndependentVariables):\n",
    "    RSquare = ComputeRSquare(ActualValuesY,PredictedValuesY)\n",
    "    n = len(ActualValuesY)\n",
    "    k = numberOfIndependentVariables\n",
    "    adjustedRSquare = 1-(((n-1)/(1-(k+1)))*(1-RSquare))\n",
    "    return adjustedRquare\n",
    "    "
   ]
  },
  {
   "cell_type": "code",
   "execution_count": null,
   "metadata": {},
   "outputs": [],
   "source": [
    "#Residual Analysis"
   ]
  }
 ],
 "metadata": {
  "kernelspec": {
   "display_name": "Python 3",
   "language": "python",
   "name": "python3"
  },
  "language_info": {
   "codemirror_mode": {
    "name": "ipython",
    "version": 3
   },
   "file_extension": ".py",
   "mimetype": "text/x-python",
   "name": "python",
   "nbconvert_exporter": "python",
   "pygments_lexer": "ipython3",
   "version": "3.7.3"
  }
 },
 "nbformat": 4,
 "nbformat_minor": 2
}
